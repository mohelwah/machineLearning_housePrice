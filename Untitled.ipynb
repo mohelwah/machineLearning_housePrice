{
 "cells": [
  {
   "cell_type": "code",
   "execution_count": 5,
   "id": "0f8bfca5-21d6-47d0-88af-b76f6138fee7",
   "metadata": {},
   "outputs": [],
   "source": [
    "import math\n",
    "import numpy as np\n",
    "import pandas as pd\n",
    "from sklearn.preprocessing import StandardScaler\n",
    "class Dataset_:\n",
    "    def __init__(self,path_china,path_ksa):\n",
    "        self.china = path_china\n",
    "        self.KSA   = path_ksa\n",
    "\n",
    "    def read_(self):\n",
    "        self.china = pd.read_csv(self.china)\n",
    "        self.KSA   = pd.read_csv(self.KSA)\n",
    "\n",
    "    def drop_unwanted_cols(self):\n",
    "        china_cols = ['Unnamed: 0', 'tradeTime', 'totalPrice', 'drawingRoom','floor', 'buildingType', 'constructionTime', 'renovationCondition', 'buildingStructure','ladderRatio', 'subway', 'communityAverage']\n",
    "        ksa_cols   = ['city', 'front', 'bedrooms','garage', 'basement', 'driver_room', 'maid_room', 'furnished', 'ac', 'roof', 'pool', 'frontyard','duplex', 'stairs', 'fireplace', 'details']\n",
    "\n",
    "        self.china = self.china .drop(china_cols, axis=1)\n",
    "        self.KSA   = self.KSA.drop(ksa_cols, axis=1)\n",
    "\n",
    "    def handling_missing_values(self):\n",
    "        print(\"missing values in china\")\n",
    "        print(self.china.isna().sum()) # sum to calculate missing value\n",
    "\n",
    "        print(\"missing values in KSA\")\n",
    "        print(self.KSA.isna().sum())\n",
    "\n",
    "        # replace missing value with mean\n",
    "        self.china = self.china.fillna(self.china.mean())\n",
    "        self.KSA = self.KSA.fillna(self.KSA.mean())\n",
    "\n",
    "    def delete_space(self,text): # to delete spaces from word in KSA dataset which writtin in Arabic so we could convert it to int\n",
    "        return text.strip()\n",
    "\n",
    "    def convert_string_to_int(self,Col_data, distinct_arr, number_start):#these method convert some columns in the datasets from string to int (word to numbers)\n",
    "        # This function receives the name of the column containing the words, an array of the\n",
    "        # words found without repetition, and the number with which the loop will start\n",
    "        for v in distinct_arr:\n",
    "            Col_data = Col_data.replace([v], number_start)\n",
    "            number_start += 1\n",
    "        return Col_data\n",
    "\n",
    "    def district(self):\n",
    "        self.KSA['district'] = self.KSA['district'].apply(self.delete_space)\n",
    "        self.district_china  = self.china['district'].unique()\n",
    "        self.district_KSA    = self.KSA['district'].unique()\n",
    "\n",
    "    def encoding_(self):# these method well apply method delete_space then convert_string_to_int\n",
    "        self.KSA['district'] = self.KSA['district'].apply(self.delete_space)\n",
    "\n",
    "        self.district_china = self.china['district'].unique()\n",
    "        self.district_KSA   = self.KSA['district'].unique()\n",
    "\n",
    "        count = self.KSA['district'].nunique() #unique() function makes a list of existing words without repetition then we could convert it to int\n",
    "        # convert to int using convert_string_to_int method\n",
    "        self.KSA['district']   = self.convert_string_to_int(self.KSA['district'], self.district_KSA, 0)\n",
    "        self.china['district'] = self.convert_string_to_int(self.china['district'], self.district_china, count+1)\n",
    "        # where() function change the condition to 0 otherwise 1\n",
    "        self.china[\"elevator\"] = np.where(self.china[\"elevator\"] == \"No_elevator\", 0, 1)\n",
    "        self.KSA[\"elevator\"]   = np.where(self.KSA[\"elevator\"] == \"No_elevator\", 0, 1)\n",
    "        # fiveYearsProperty column in china dataset the values is 0 if it's more tan 5 years otherwise 1, in KSA datasets\n",
    "        # represent with numbers, So we set a condition for the column if the values are less than 5 put 0 otherwise 1\n",
    "        self.china[\"fiveYearsProperty\"] = np.where(self.china[\"fiveYearsProperty\"] == \"Ownership < 5y\", 0, 1)\n",
    "        self.KSA[\"property_age\"]        = np.where(self.KSA[\"property_age\"] < 5, 0, 1)\n",
    "\n",
    "    def handling_outlier(self):\n",
    "        numeric_col  = ['size', 'livingrooms', 'price']\n",
    "        numeric_col2 = ['square', 'livingRoom', 'price']\n",
    "        #plt.boxplot(self.KSA['bathrooms'])\n",
    "        #plt.show()\n",
    "        # use IQR SCORE TO filter out the outliers by keeping only valid values.\n",
    "        for x,y in zip(numeric_col,numeric_col2):\n",
    "            q1, q3 = np.percentile(self.KSA.loc[:, x], [75, 25])\n",
    "            q11, q13 = np.percentile(self.china.loc[:, y], [75, 25])\n",
    "\n",
    "            IQR  = q1 - q3\n",
    "            IQR1 = q11 - q13\n",
    "\n",
    "            max = q1 + (1.5 * IQR)\n",
    "            min = q3 - (1.5 * IQR)\n",
    "\n",
    "            max1 = q11 + (1.5 * IQR1)\n",
    "            min1 = q13 - (1.5 * IQR1)\n",
    "\n",
    "            self.KSA.loc[self.KSA[x] < min, x] = self.KSA[x].mean()\n",
    "            self.KSA.loc[self.KSA[x] > max, x] = self.KSA[x].mean()\n",
    "\n",
    "            self.china.loc[self.china[y] < min, y] = self.china[y].mean()\n",
    "            self.china.loc[self.china[y] > max, y] = self.china[y].mean()\n",
    "\n",
    "    def Data_normalize(self):\n",
    "        # normalize x-min/max-min\n",
    "        self.china = (self.china - self.china.mean()) / self.china.std()\n",
    "        self.KSA = (self.KSA - self.KSA.mean()) / self.KSA.std()\n",
    "\n",
    "    def merage_Dataset(self):\n",
    "        d1 = self.china.rename(columns={\"square\": \"size\", \"fiveYearsProperty\": \"Property\"})\n",
    "        d2 = self.KSA.rename(columns={\"property_age\": \"Property\", \"bathrooms\": \"bathRoom\", \"livingrooms\": \"livingRoom\"})\n",
    "        cols = ['Property', 'bathRoom', 'district', 'elevator', 'kitchen', 'livingRoom', 'size', 'price']\n",
    "\n",
    "        self.data = pd.concat([d1[cols], d2[cols]])\n",
    "        self.data['bathRoom'] = self.data['bathRoom'].astype('int')\n",
    "        self.data['livingRoom'] = self.data['livingRoom'].astype('int')\n",
    "        self.data.reset_index(drop=True)\n",
    "        indes = np.random.choice(self.data.shape[1], replace=True, size=self.data.shape[0])\n",
    "        self.data = self.data.iloc[indes]\n",
    "\n",
    "\n",
    "        #self.data.to_csv(\"China_KSA.csv\")\n",
    "\n",
    "    def split_train_test(self):\n",
    "        # get the locations\n",
    "        self.X = self.data.iloc[:, :-1]\n",
    "        self.y = self.data.iloc[:, -1]\n",
    "\n",
    "        # split the dataset\n",
    "        s_f =.8\n",
    "        n_train = math.floor(s_f * self.X.shape[0])\n",
    "        n_test = math.ceil((1 - s_f) * self.X.shape[0])\n",
    "        self.X_train = self.X[:n_train]\n",
    "        self.y_train = self.y[:n_train]\n",
    "        self.X_test =  self.X[n_train:]\n",
    "        self.y_test =  self.y[n_train:]\n",
    "\n",
    "    def scale_data(self):\n",
    "        #standardization scaler - fit&transform on train, fit only on test\n",
    "        s_scaler = StandardScaler()\n",
    "        self.X_train = s_scaler.fit_transform(self.X_train.astype(np.float))\n",
    "        self.X_test  = s_scaler.transform(self.X_test.astype(np.float))\n",
    "\n"
   ]
  },
  {
   "cell_type": "code",
   "execution_count": 8,
   "id": "a5376d1e-a7d8-4540-addc-98c44816568e",
   "metadata": {},
   "outputs": [],
   "source": [
    "def preprocess_():\n",
    "    path_china = 'C:/Users/root/Desktop/notebook/1- Freelancer work/proj/china.csv'\n",
    "    path_ksa = 'C:/Users/root/Desktop/notebook/1- Freelancer work/proj/SA_Aqar.csv'\n",
    "    #path_china = 'C:/Users/Senpai/Documents/SP2/china.csv'\n",
    "    #path_ksa = 'C:/Users/Senpai/Documents/SP2/SA_Aqar.csv'\n",
    "    data_ = Dataset_(path_china, path_ksa)\n",
    "    data_.read_()\n",
    "    data_.drop_unwanted_cols()\n",
    "    data_.encoding_()\n",
    "    data_.handling_missing_values()\n",
    "    data_.handling_outlier()\n",
    "    data_.Data_normalize()\n",
    "    data_.merage_Dataset()\n",
    "    data_.split_train_test()\n",
    "    return data_.X_train, data_.y_train, data_.X_test, data_.y_test"
   ]
  },
  {
   "cell_type": "code",
   "execution_count": 9,
   "id": "e5bf38b0-39b0-4aeb-bcf8-47e7e65489d8",
   "metadata": {},
   "outputs": [
    {
     "name": "stdout",
     "output_type": "stream",
     "text": [
      "missing values in china\n",
      "...1                  0\n",
      "price                 0\n",
      "square                0\n",
      "livingRoom           31\n",
      "kitchen               0\n",
      "bathRoom              2\n",
      "elevator              0\n",
      "fiveYearsProperty     0\n",
      "district              0\n",
      "dtype: int64\n",
      "missing values in KSA\n",
      "district        0\n",
      "size            0\n",
      "property_age    0\n",
      "bathrooms       0\n",
      "livingrooms     0\n",
      "kitchen         0\n",
      "elevator        0\n",
      "price           0\n",
      "dtype: int64\n"
     ]
    }
   ],
   "source": [
    "x_train, y_train, x_test, y_test = preprocess_()"
   ]
  },
  {
   "cell_type": "code",
   "execution_count": 13,
   "id": "8f63adc2-bff9-4e54-8073-0d0b48ab5da1",
   "metadata": {},
   "outputs": [
    {
     "data": {
      "text/plain": [
       "Property      0\n",
       "bathRoom      0\n",
       "district      0\n",
       "elevator      0\n",
       "kitchen       0\n",
       "livingRoom    0\n",
       "size          0\n",
       "dtype: int64"
      ]
     },
     "execution_count": 13,
     "metadata": {},
     "output_type": "execute_result"
    }
   ],
   "source": [
    "x_train.isnull().sum()"
   ]
  },
  {
   "cell_type": "code",
   "execution_count": 14,
   "id": "6c39b75e-404a-4739-b3dd-ae841233f76f",
   "metadata": {},
   "outputs": [
    {
     "data": {
      "text/plain": [
       "0"
      ]
     },
     "execution_count": 14,
     "metadata": {},
     "output_type": "execute_result"
    }
   ],
   "source": [
    " y_train.isnull().sum()"
   ]
  },
  {
   "cell_type": "code",
   "execution_count": 15,
   "id": "6270072e-ed20-4612-8bb3-136bb7ebac95",
   "metadata": {},
   "outputs": [
    {
     "data": {
      "text/plain": [
       "Property      0\n",
       "bathRoom      0\n",
       "district      0\n",
       "elevator      0\n",
       "kitchen       0\n",
       "livingRoom    0\n",
       "size          0\n",
       "dtype: int64"
      ]
     },
     "execution_count": 15,
     "metadata": {},
     "output_type": "execute_result"
    }
   ],
   "source": [
    "x_test.isnull().sum()"
   ]
  },
  {
   "cell_type": "code",
   "execution_count": 16,
   "id": "ca08027c-edc6-4819-8242-ffb6fa051e1d",
   "metadata": {},
   "outputs": [
    {
     "data": {
      "text/plain": [
       "0"
      ]
     },
     "execution_count": 16,
     "metadata": {},
     "output_type": "execute_result"
    }
   ],
   "source": [
    "y_test.isnull().sum()"
   ]
  },
  {
   "cell_type": "code",
   "execution_count": 20,
   "id": "c41602ae-f00e-4883-84d2-aa88e4ab5633",
   "metadata": {},
   "outputs": [
    {
     "data": {
      "text/html": [
       "<div>\n",
       "<style scoped>\n",
       "    .dataframe tbody tr th:only-of-type {\n",
       "        vertical-align: middle;\n",
       "    }\n",
       "\n",
       "    .dataframe tbody tr th {\n",
       "        vertical-align: top;\n",
       "    }\n",
       "\n",
       "    .dataframe thead th {\n",
       "        text-align: right;\n",
       "    }\n",
       "</style>\n",
       "<table border=\"1\" class=\"dataframe\">\n",
       "  <thead>\n",
       "    <tr style=\"text-align: right;\">\n",
       "      <th></th>\n",
       "      <th>Property</th>\n",
       "      <th>bathRoom</th>\n",
       "      <th>district</th>\n",
       "      <th>elevator</th>\n",
       "      <th>kitchen</th>\n",
       "      <th>livingRoom</th>\n",
       "      <th>size</th>\n",
       "    </tr>\n",
       "  </thead>\n",
       "  <tbody>\n",
       "    <tr>\n",
       "      <th>7</th>\n",
       "      <td>0.0</td>\n",
       "      <td>0</td>\n",
       "      <td>-0.957771</td>\n",
       "      <td>0.0</td>\n",
       "      <td>0.049086</td>\n",
       "      <td>1</td>\n",
       "      <td>2.344361</td>\n",
       "    </tr>\n",
       "    <tr>\n",
       "      <th>5</th>\n",
       "      <td>0.0</td>\n",
       "      <td>0</td>\n",
       "      <td>-0.957771</td>\n",
       "      <td>0.0</td>\n",
       "      <td>0.049086</td>\n",
       "      <td>-1</td>\n",
       "      <td>-0.436476</td>\n",
       "    </tr>\n",
       "    <tr>\n",
       "      <th>2</th>\n",
       "      <td>0.0</td>\n",
       "      <td>0</td>\n",
       "      <td>-0.957771</td>\n",
       "      <td>0.0</td>\n",
       "      <td>0.049086</td>\n",
       "      <td>1</td>\n",
       "      <td>3.638781</td>\n",
       "    </tr>\n",
       "    <tr>\n",
       "      <th>5</th>\n",
       "      <td>0.0</td>\n",
       "      <td>0</td>\n",
       "      <td>-0.957771</td>\n",
       "      <td>0.0</td>\n",
       "      <td>0.049086</td>\n",
       "      <td>-1</td>\n",
       "      <td>-0.436476</td>\n",
       "    </tr>\n",
       "    <tr>\n",
       "      <th>4</th>\n",
       "      <td>0.0</td>\n",
       "      <td>0</td>\n",
       "      <td>-0.378982</td>\n",
       "      <td>0.0</td>\n",
       "      <td>0.049086</td>\n",
       "      <td>0</td>\n",
       "      <td>-0.436476</td>\n",
       "    </tr>\n",
       "    <tr>\n",
       "      <th>...</th>\n",
       "      <td>...</td>\n",
       "      <td>...</td>\n",
       "      <td>...</td>\n",
       "      <td>...</td>\n",
       "      <td>...</td>\n",
       "      <td>...</td>\n",
       "      <td>...</td>\n",
       "    </tr>\n",
       "    <tr>\n",
       "      <th>4</th>\n",
       "      <td>0.0</td>\n",
       "      <td>0</td>\n",
       "      <td>-0.378982</td>\n",
       "      <td>0.0</td>\n",
       "      <td>0.049086</td>\n",
       "      <td>0</td>\n",
       "      <td>-0.436476</td>\n",
       "    </tr>\n",
       "    <tr>\n",
       "      <th>1</th>\n",
       "      <td>0.0</td>\n",
       "      <td>0</td>\n",
       "      <td>-0.957771</td>\n",
       "      <td>0.0</td>\n",
       "      <td>0.049086</td>\n",
       "      <td>0</td>\n",
       "      <td>1.308470</td>\n",
       "    </tr>\n",
       "    <tr>\n",
       "      <th>0</th>\n",
       "      <td>0.0</td>\n",
       "      <td>0</td>\n",
       "      <td>-0.957771</td>\n",
       "      <td>0.0</td>\n",
       "      <td>0.049086</td>\n",
       "      <td>0</td>\n",
       "      <td>1.259463</td>\n",
       "    </tr>\n",
       "    <tr>\n",
       "      <th>6</th>\n",
       "      <td>0.0</td>\n",
       "      <td>0</td>\n",
       "      <td>-0.957771</td>\n",
       "      <td>0.0</td>\n",
       "      <td>0.049086</td>\n",
       "      <td>0</td>\n",
       "      <td>-0.436476</td>\n",
       "    </tr>\n",
       "    <tr>\n",
       "      <th>4</th>\n",
       "      <td>0.0</td>\n",
       "      <td>0</td>\n",
       "      <td>-0.378982</td>\n",
       "      <td>0.0</td>\n",
       "      <td>0.049086</td>\n",
       "      <td>0</td>\n",
       "      <td>-0.436476</td>\n",
       "    </tr>\n",
       "  </tbody>\n",
       "</table>\n",
       "<p>64504 rows × 7 columns</p>\n",
       "</div>"
      ],
      "text/plain": [
       "    Property  bathRoom  district  elevator   kitchen  livingRoom      size\n",
       "7        0.0         0 -0.957771       0.0  0.049086           1  2.344361\n",
       "5        0.0         0 -0.957771       0.0  0.049086          -1 -0.436476\n",
       "2        0.0         0 -0.957771       0.0  0.049086           1  3.638781\n",
       "5        0.0         0 -0.957771       0.0  0.049086          -1 -0.436476\n",
       "4        0.0         0 -0.378982       0.0  0.049086           0 -0.436476\n",
       "..       ...       ...       ...       ...       ...         ...       ...\n",
       "4        0.0         0 -0.378982       0.0  0.049086           0 -0.436476\n",
       "1        0.0         0 -0.957771       0.0  0.049086           0  1.308470\n",
       "0        0.0         0 -0.957771       0.0  0.049086           0  1.259463\n",
       "6        0.0         0 -0.957771       0.0  0.049086           0 -0.436476\n",
       "4        0.0         0 -0.378982       0.0  0.049086           0 -0.436476\n",
       "\n",
       "[64504 rows x 7 columns]"
      ]
     },
     "execution_count": 20,
     "metadata": {},
     "output_type": "execute_result"
    }
   ],
   "source": [
    "x_test[0:]"
   ]
  },
  {
   "cell_type": "code",
   "execution_count": 2,
   "id": "4b2299d1-4372-40d5-9b1f-72eeed154bec",
   "metadata": {},
   "outputs": [],
   "source": [
    "import pandas as pd"
   ]
  },
  {
   "cell_type": "code",
   "execution_count": 3,
   "id": "57c5924a-00d7-47f8-aaac-ae6f0784afd5",
   "metadata": {},
   "outputs": [
    {
     "data": {
      "text/plain": [
       "Index(['city', 'district', 'front', 'size', 'property_age', 'bedrooms',\n",
       "       'bathrooms', 'livingrooms', 'kitchen', 'garage', 'driver_room',\n",
       "       'maid_room', 'furnished', 'ac', 'roof', 'pool', 'frontyard', 'basement',\n",
       "       'duplex', 'stairs', 'elevator', 'fireplace', 'price', 'details'],\n",
       "      dtype='object')"
      ]
     },
     "execution_count": 3,
     "metadata": {},
     "output_type": "execute_result"
    }
   ],
   "source": [
    "df = pd.read_csv(\"SA_Aqar.csv\")\n",
    "df.columns"
   ]
  },
  {
   "cell_type": "code",
   "execution_count": 4,
   "id": "9b3eb2cf-eb0e-46ba-bc71-c1d661bc9226",
   "metadata": {},
   "outputs": [
    {
     "data": {
      "text/plain": [
       "Index(['Unnamed: 0', '...1', 'tradeTime', 'totalPrice', 'price', 'square',\n",
       "       'livingRoom', 'drawingRoom', 'kitchen', 'bathRoom', 'floor',\n",
       "       'buildingType', 'constructionTime', 'renovationCondition',\n",
       "       'buildingStructure', 'ladderRatio', 'elevator', 'fiveYearsProperty',\n",
       "       'subway', 'district', 'communityAverage'],\n",
       "      dtype='object')"
      ]
     },
     "execution_count": 4,
     "metadata": {},
     "output_type": "execute_result"
    }
   ],
   "source": [
    "df = pd.read_csv(\"china.csv\")\n",
    "df.columns"
   ]
  },
  {
   "cell_type": "code",
   "execution_count": 21,
   "id": "b1caad34-6a19-4e68-b806-44f9b18cff96",
   "metadata": {},
   "outputs": [],
   "source": [
    "import tensorflow."
   ]
  },
  {
   "cell_type": "code",
   "execution_count": null,
   "id": "111129f2-83c4-4567-a4b7-da8af819abdb",
   "metadata": {},
   "outputs": [],
   "source": []
  }
 ],
 "metadata": {
  "kernelspec": {
   "display_name": "Python 3 (ipykernel)",
   "language": "python",
   "name": "python3"
  },
  "language_info": {
   "codemirror_mode": {
    "name": "ipython",
    "version": 3
   },
   "file_extension": ".py",
   "mimetype": "text/x-python",
   "name": "python",
   "nbconvert_exporter": "python",
   "pygments_lexer": "ipython3",
   "version": "3.9.12"
  }
 },
 "nbformat": 4,
 "nbformat_minor": 5
}
